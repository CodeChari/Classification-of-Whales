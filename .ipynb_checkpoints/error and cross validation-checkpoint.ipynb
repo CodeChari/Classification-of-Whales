{
 "cells": [
  {
   "cell_type": "code",
   "execution_count": 43,
   "metadata": {},
   "outputs": [],
   "source": [
    "%matplotlib inline\n",
    "import numpy as np\n",
    "import xgboost as xgb\n",
    "from sklearn.model_selection import train_test_split\n",
    "import matplotlib.pyplot as plt\n",
    "from lib import XGBHelper as xgbh\n",
    "data  = np.load(\"Data/processed_data_150mb.np\")\n",
    "X = data[:, :-1]\n",
    "y = np.array(data[:, -1], dtype=int)\n",
    "\n",
    "\n",
    "X_train, X_test, y_train, y_test = train_test_split(X, y, test_size=0.30)\n",
    "X_test, X_val, y_test, y_val = train_test_split(X_test, y_test, test_size=0.5)\n",
    "\n",
    "dtrain = xgb.DMatrix(X_train, label=y_train)\n",
    "dval = xgb.DMatrix(X_val, y_val)\n",
    "dtest = xgb.DMatrix(X_test, label=y_test)"
   ]
  },
  {
   "cell_type": "code",
   "execution_count": 44,
   "metadata": {},
   "outputs": [],
   "source": [
    "from xgboost import cv"
   ]
  },
  {
   "cell_type": "code",
   "execution_count": 45,
   "metadata": {
    "scrolled": true
   },
   "outputs": [
    {
     "name": "stdout",
     "output_type": "stream",
     "text": [
      "{'max_depth': 3, 'eta': 0.3, 'silent': 0, 'objective': 'binary:logistic', 'nthread': 7}\n",
      "[0]\ttrain-error:0.179995+0.000768324\ttest-error:0.183286+0.00743744\n",
      "[5]\ttrain-error:0.165496+0.00260266\ttest-error:0.170433+0.00580026\n",
      "[10]\ttrain-error:0.152309+0.00156104\ttest-error:0.158099+0.0049536\n",
      "[15]\ttrain-error:0.144152+0.00172742\ttest-error:0.150429+0.00672566\n",
      "[20]\ttrain-error:0.140087+0.00178554\ttest-error:0.147043+0.0061539\n",
      "[25]\ttrain-error:0.137258+0.00145373\ttest-error:0.145108+0.00547633\n",
      "[30]\ttrain-error:0.135787+0.00178357\ttest-error:0.14345+0.00548694\n",
      "[35]\ttrain-error:0.134071+0.00123099\ttest-error:0.143449+0.0056859\n",
      "[40]\ttrain-error:0.132409+0.00117832\ttest-error:0.143104+0.00509052\n",
      "[45]\ttrain-error:0.131303+0.00109255\ttest-error:0.142862+0.00548108\n",
      "[50]\ttrain-error:0.12981+0.00110879\ttest-error:0.14231+0.00539924\n",
      "[55]\ttrain-error:0.128731+0.00103833\ttest-error:0.141826+0.00573896\n",
      "[60]\ttrain-error:0.127637+0.00123472\ttest-error:0.140859+0.00594658\n",
      "[65]\ttrain-error:0.126609+0.00122496\ttest-error:0.140824+0.00604754\n",
      "[70]\ttrain-error:0.126094+0.00132036\ttest-error:0.140859+0.00594441\n",
      "[75]\ttrain-error:0.125269+0.00124247\ttest-error:0.140444+0.00545649\n",
      "[80]\ttrain-error:0.124378+0.00115162\ttest-error:0.139891+0.00593423\n",
      "[85]\ttrain-error:0.123568+0.00114133\ttest-error:0.140099+0.00592538\n",
      "[90]\ttrain-error:0.122812+0.00150209\ttest-error:0.139892+0.0064342\n",
      "[95]\ttrain-error:0.121864+0.00161287\ttest-error:0.140444+0.00668446\n",
      "[100]\ttrain-error:0.121127+0.00181028\ttest-error:0.140306+0.00592012\n",
      "[105]\ttrain-error:0.120547+0.00197935\ttest-error:0.140548+0.00626738\n",
      "[110]\ttrain-error:0.119672+0.00185631\ttest-error:0.140617+0.00712551\n",
      "[115]\ttrain-error:0.1189+0.00183713\ttest-error:0.140928+0.00664493\n",
      "[120]\ttrain-error:0.118201+0.00174746\ttest-error:0.141032+0.00658678\n",
      "[125]\ttrain-error:0.11733+0.00188885\ttest-error:0.141032+0.00680955\n",
      "[130]\ttrain-error:0.116604+0.00173477\ttest-error:0.140755+0.00663285\n",
      "[135]\ttrain-error:0.115752+0.00186253\ttest-error:0.140237+0.00674594\n",
      "[140]\ttrain-error:0.115038+0.00184631\ttest-error:0.139961+0.00612192\n",
      "[145]\ttrain-error:0.114374+0.0019162\ttest-error:0.140271+0.00598667\n",
      "[150]\ttrain-error:0.113583+0.001872\ttest-error:0.139995+0.00607114\n",
      "[155]\ttrain-error:0.112892+0.0017347\ttest-error:0.13958+0.00582345\n",
      "[159]\ttrain-error:0.112332+0.00170198\ttest-error:0.139477+0.00555917\n"
     ]
    }
   ],
   "source": [
    "param = {}\n",
    "param['max_depth']= 3   # depth of tree\n",
    "param['eta'] = 0.3      # shrinkage parameter\n",
    "param['silent'] = 0     # not silent\n",
    "param['objective'] = 'binary:logistic'\n",
    "param['nthread'] = 7 # Number of threads used\n",
    "\n",
    "plst = param.items()\n",
    "print(param)\n",
    "evallist = [(dtrain, 'train'), (dtest, 'eval')]\n",
    "cross_val = cv(param, dtrain, num_boost_round=160, nfold=10, stratified=False, folds=None, metrics=(), obj=None, feval=None, maximize=False, early_stopping_rounds=None, fpreproc=None, as_pandas=True, verbose_eval= 5, show_stdv=True, seed=0, callbacks=None, shuffle=True)"
   ]
  },
  {
   "cell_type": "code",
   "execution_count": 46,
   "metadata": {},
   "outputs": [
    {
     "data": {
      "text/plain": [
       "0.8606271"
      ]
     },
     "execution_count": 46,
     "metadata": {},
     "output_type": "execute_result"
    }
   ],
   "source": [
    "1-min(cross_val['test-error-mean'])"
   ]
  },
  {
   "cell_type": "code",
   "execution_count": 47,
   "metadata": {},
   "outputs": [],
   "source": [
    "def get_error_values(y_pred, y_test, thresholds):\n",
    "    accuracy_1 = []\n",
    "    accuracy_0 = []\n",
    "    for thresh in thresholds:\n",
    "        y_test_i = y_test[y_test == 1]\n",
    "        y_pred_i = y_pred[y_test == 1]\n",
    "        correct = np.sum(y_pred_i > thresh)\n",
    "        accuracy_1.append(1.0 * correct / len(y_test_i))\n",
    "\n",
    "        y_test_i = y_test[y_test == 0]\n",
    "        y_pred_i = y_pred[y_test == 0]\n",
    "        correct = np.sum(y_pred_i <= thresh)\n",
    "        accuracy_0.append(1.0 * correct / len(y_test_i))\n",
    "    \n",
    "    error_1 = list(1 - np.array(accuracy_1))\n",
    "    error_0 = list(1 - np.array(accuracy_0))\n",
    "    return error_1, error_0"
   ]
  },
  {
   "cell_type": "code",
   "execution_count": 48,
   "metadata": {},
   "outputs": [],
   "source": [
    "num_round = 150\n",
    "bst = xgb.train(plst, dtrain, num_round, evallist, verbose_eval=False)\n",
    "y_pred = bst.predict(dtest, ntree_limit=bst.best_ntree_limit, output_margin=True)\n",
    "thresholds = sorted(np.unique(np.round(y_pred, 2)))\n",
    "error_cuv, error_ger = xgbh.get_error_values(y_pred, y_test, thresholds)"
   ]
  },
  {
   "cell_type": "code",
   "execution_count": 69,
   "metadata": {},
   "outputs": [],
   "source": [
    "accuracy_1 = []\n",
    "thresh = 0.5\n",
    "y_test_i = y_test[y_test == 1]\n",
    "y_pred_i = y_pred[y_test == 1]\n",
    "correct = np.sum(y_pred_i > thresh)\n",
    "accuracy_1.append(1.0 * correct / len(y_test_i))"
   ]
  },
  {
   "cell_type": "code",
   "execution_count": 76,
   "metadata": {},
   "outputs": [
    {
     "data": {
      "text/plain": [
       "[0.8338810875410816]"
      ]
     },
     "execution_count": 76,
     "metadata": {},
     "output_type": "execute_result"
    }
   ],
   "source": [
    "accuracy_1"
   ]
  },
  {
   "cell_type": "code",
   "execution_count": 51,
   "metadata": {},
   "outputs": [],
   "source": [
    "accuracy_0 = []\n",
    "thresh = 0.5\n",
    "y_test_i = y_test[y_test == 0]\n",
    "y_pred_i = y_pred[y_test == 0]\n",
    "correct = np.sum(y_pred_i <= thresh)\n",
    "accuracy_0.append(1.0 * correct / len(y_test_i))"
   ]
  },
  {
   "cell_type": "code",
   "execution_count": 77,
   "metadata": {},
   "outputs": [
    {
     "data": {
      "text/plain": [
       "[0.8882661996497373]"
      ]
     },
     "execution_count": 77,
     "metadata": {},
     "output_type": "execute_result"
    }
   ],
   "source": [
    "accuracy_0"
   ]
  },
  {
   "cell_type": "code",
   "execution_count": 78,
   "metadata": {},
   "outputs": [],
   "source": [
    "accuracy = accuracy_0 + accuracy_1"
   ]
  },
  {
   "cell_type": "code",
   "execution_count": 79,
   "metadata": {},
   "outputs": [
    {
     "data": {
      "text/plain": [
       "[0.8882661996497373, 0.8338810875410816]"
      ]
     },
     "execution_count": 79,
     "metadata": {},
     "output_type": "execute_result"
    }
   ],
   "source": [
    "accuracy"
   ]
  },
  {
   "cell_type": "code",
   "execution_count": 80,
   "metadata": {},
   "outputs": [
    {
     "data": {
      "text/plain": [
       "0.8610736435954094"
      ]
     },
     "execution_count": 80,
     "metadata": {},
     "output_type": "execute_result"
    }
   ],
   "source": [
    "sum(accuracy)/2"
   ]
  },
  {
   "cell_type": "code",
   "execution_count": null,
   "metadata": {},
   "outputs": [],
   "source": []
  }
 ],
 "metadata": {
  "kernelspec": {
   "display_name": "Python 3",
   "language": "python",
   "name": "python3"
  },
  "language_info": {
   "codemirror_mode": {
    "name": "ipython",
    "version": 3
   },
   "file_extension": ".py",
   "mimetype": "text/x-python",
   "name": "python",
   "nbconvert_exporter": "python",
   "pygments_lexer": "ipython3",
   "version": "3.6.5"
  }
 },
 "nbformat": 4,
 "nbformat_minor": 2
}
